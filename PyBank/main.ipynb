{
 "cells": [
  {
   "cell_type": "code",
   "execution_count": 23,
   "id": "b3b90777-d83f-4c84-a564-c3f7ae3a5d43",
   "metadata": {},
   "outputs": [],
   "source": [
    "# Module 2 Challenge: PyBank\n",
    "# Due: March 6th @ 11:59pm\n",
    "\n",
    "# Import the pathlib and cvs library\n",
    "from pathlib import Path\n",
    "import csv\n",
    "\n",
    "#Intilize metric variables\n",
    "total_months = 0\n",
    "month_change = 0\n",
    "net_total = 0\n",
    "average_changes = 0\n",
    "profit_losses= []\n",
    "dates = []\n",
    "\n",
    "    \n",
    "    "
   ]
  },
  {
   "cell_type": "code",
   "execution_count": null,
   "id": "95232c18-33af-47fc-9cdf-ab9238bf36a1",
   "metadata": {},
   "outputs": [],
   "source": []
  }
 ],
 "metadata": {
  "kernelspec": {
   "display_name": "Python 3 (ipykernel)",
   "language": "python",
   "name": "python3"
  },
  "language_info": {
   "codemirror_mode": {
    "name": "ipython",
    "version": 3
   },
   "file_extension": ".py",
   "mimetype": "text/x-python",
   "name": "python",
   "nbconvert_exporter": "python",
   "pygments_lexer": "ipython3",
   "version": "3.9.13"
  }
 },
 "nbformat": 4,
 "nbformat_minor": 5
}
